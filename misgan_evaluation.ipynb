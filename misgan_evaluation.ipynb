{
 "cells": [
  {
   "cell_type": "code",
   "execution_count": 1,
   "metadata": {
    "colab": {
     "base_uri": "https://localhost:8080/",
     "height": 102
    },
    "id": "5K_j8WdDF_oI",
    "outputId": "bb6695c1-1057-4e34-8a5a-c853db662ef5",
    "pycharm": {
     "name": "#%%\n"
    }
   },
   "outputs": [],
   "source": [
    "# !pip install --upgrade torch==1.6.0 torchvision==0.7.0 Pillow==8.0.1"
   ]
  },
  {
   "cell_type": "code",
   "execution_count": 2,
   "metadata": {
    "id": "tbhmFg-uF_oP",
    "pycharm": {
     "name": "#%%\n"
    }
   },
   "outputs": [],
   "source": [
    "%reload_ext autoreload\n",
    "%autoreload 2\n",
    "%matplotlib inline\n",
    "%config InlineBackend.figure_format = 'retina'"
   ]
  },
  {
   "cell_type": "code",
   "execution_count": 3,
   "metadata": {
    "id": "MUA9Z6ceF_oT",
    "pycharm": {
     "name": "#%%\n"
    }
   },
   "outputs": [],
   "source": [
    "import torch\n",
    "import torch.nn as nn\n",
    "import torch.optim as optim\n",
    "from torch.autograd import grad\n",
    "from torch.utils.data import DataLoader\n",
    "from torch.utils.data import Dataset\n",
    "from torchvision import datasets, transforms\n",
    "import numpy as np\n",
    "from matplotlib.patches import Rectangle\n",
    "import pylab as plt"
   ]
  },
  {
   "cell_type": "code",
   "execution_count": 4,
   "metadata": {
    "id": "jiDIEOHrF_oW",
    "pycharm": {
     "name": "#%%\n"
    }
   },
   "outputs": [],
   "source": [
    "use_cuda = torch.cuda.is_available()\n",
    "device = torch.device('cuda' if use_cuda else 'cpu')\n",
    "# import os\n",
    "# os.environ['KMP_DUPLICATE_LIB_OK']='True'"
   ]
  },
  {
   "cell_type": "code",
   "execution_count": 5,
   "metadata": {
    "id": "agkS1ck7F_oa",
    "pycharm": {
     "name": "#%%\n"
    }
   },
   "outputs": [],
   "source": [
    "class BlockMaskedMNIST(Dataset):\n",
    "    def __init__(self, block_len, data_dir='src/mnist-data', random_seed=0):\n",
    "        self.block_len = block_len\n",
    "        self.rnd = np.random.RandomState(random_seed)\n",
    "        data = datasets.MNIST(data_dir, train=True, download=True,\n",
    "                              transform=transforms.ToTensor())\n",
    "        self.data_size = len(data)\n",
    "        self.generate_incomplete_data(data)\n",
    "\n",
    "    def __getitem__(self, index):\n",
    "        # return index so we can retrieve the mask location from self.mask_loc\n",
    "        return self.image[index], self.mask[index], index\n",
    "\n",
    "    def __len__(self):\n",
    "        return self.data_size\n",
    "\n",
    "    def generate_incomplete_data(self, data):\n",
    "        n_masks = self.data_size\n",
    "        self.image = [None] * n_masks\n",
    "        self.mask = [None] * n_masks\n",
    "        self.mask_loc = [None] * n_masks\n",
    "        for i in range(n_masks):\n",
    "            d0 = self.rnd.randint(0, 28 - self.block_len + 1)\n",
    "            d1 = self.rnd.randint(0, 28 - self.block_len + 1)\n",
    "            mask = torch.zeros((28, 28), dtype=torch.uint8)\n",
    "            mask[d0:(d0 + self.block_len), d1:(d1 + self.block_len)] = 1\n",
    "            self.mask[i] = mask.unsqueeze(0)   # add an axis for channel\n",
    "            self.mask_loc[i] = d0, d1, self.block_len, self.block_len\n",
    "            # Mask out missing pixels by zero\n",
    "            self.image[i] = data[i][0] * mask.float()\n",
    "            \n",
    "\n",
    "\n",
    "class BlockMaskedMNIST_MNAR(Dataset):\n",
    "    def __init__(self, pixel_bound = 0.95, pixel_bound_array = ([0.95] * 10), scale_ratio = 0.2, M_type = \"MAR\", missing_p = 0.15, data_dir='src/mnist-data'):\n",
    "        self.data = datasets.MNIST(data_dir, train=True, download=True,\n",
    "                              transform=transforms.ToTensor())\n",
    "        self.data_size = len(self.data)\n",
    "        \n",
    "        if M_type == \"MAR\":\n",
    "            self.generate_incomplete_data_MAR()\n",
    "            \n",
    "        if M_type == \"MAR_bernoulli\":\n",
    "            self.generate_incomplete_data_MAR_bernoulli(missing_p)\n",
    "        \n",
    "        if M_type == \"MNAR_label_dep\":\n",
    "            self.generate_incomplete_data_label(pixel_bound_array)\n",
    "            \n",
    "        if M_type == \"MNAR\":\n",
    "            self.generate_incomplete_data(pixel_bound)\n",
    "        \n",
    "        if M_type == \"MNAR_bernoulli\":\n",
    "            self.generate_incomplete_data_MNAR_bernoulli(pixel_bound, scale_ratio, missing_p)\n",
    "\n",
    "    def __getitem__(self, index):\n",
    "        # return index so we can retrieve the mask location from self.mask_loc\n",
    "        return self.image[index], self.mask[index], index\n",
    "\n",
    "    def __len__(self):\n",
    "        return self.data_size\n",
    "    \n",
    "    def generate_incomplete_data_MAR(self):\n",
    "        n_masks = self.data_size\n",
    "        self.image = [None] * n_masks\n",
    "        self.mask = [None] * n_masks\n",
    "        self.mask_loc = [None] * n_masks\n",
    "        for i in range(n_masks):\n",
    "            mask = np.array([1] * 667 + [0] * 117)\n",
    "            np.random.shuffle(mask)\n",
    "            mask = mask.reshape(28, 28)\n",
    "            mask = torch.from_numpy(mask)\n",
    "            self.mask[i] = mask.unsqueeze(0)   # add an axis for channel\n",
    "            # Mask out missing pixels by zero\n",
    "            self.image[i] = self.data[i][0] * mask.float()\n",
    "            \n",
    "    def generate_incomplete_data_MAR_bernoulli(self, missing_p):\n",
    "        n_masks = self.data_size\n",
    "        self.image = [None] * n_masks\n",
    "        self.mask = [None] * n_masks\n",
    "        self.mask_loc = [None] * n_masks\n",
    "        for i in range(n_masks):\n",
    "            mask = np.random.binomial(1, p=missing_p, size = (28,28))\n",
    "            mask = np.where((mask==0)|(mask==1), mask^1, mask)\n",
    "            mask = torch.from_numpy(mask)\n",
    "            self.mask[i] = mask.unsqueeze(0)   # add an axis for channel\n",
    "            # Mask out missing pixels by zero\n",
    "            self.image[i] = self.data[i][0] * mask.float()\n",
    "    \n",
    "    def generate_incomplete_data_MNAR_bernoulli(self, pixel_bound, scale_ratio, missing_p):\n",
    "        n_masks = self.data_size\n",
    "        self.image = [None] * n_masks\n",
    "        self.mask = [None] * n_masks\n",
    "        self.mask_loc = [None] * n_masks\n",
    "        for i in range(n_masks):\n",
    "            dat_array = np.array(self.data[i][0].reshape(28,28))\n",
    "            mean = np.mean(dat_array.reshape(28*28))\n",
    "            dat_array_scaled = (mean - dat_array) * scale_ratio + dat_array\n",
    "            diff_val = missing_p - 0.13059399111498923\n",
    "            dat_array_scaled = dat_array_scaled + diff_val\n",
    "            dat_array_scaled = np.clip(dat_array_scaled, 0, 1)\n",
    "            mask = np.random.binomial(1, p=dat_array_scaled)\n",
    "            mask = np.where((mask==0)|(mask==1), mask^1, mask)\n",
    "            mask = torch.from_numpy(mask)\n",
    "            self.mask[i] = mask.unsqueeze(0)   # add an axis for channel\n",
    "            # Mask out missing pixels by zero\n",
    "            self.image[i] = self.data[i][0] * mask.float()\n",
    "        \n",
    "\n",
    "    def generate_incomplete_data(self, pixel_bound):\n",
    "        n_masks = self.data_size\n",
    "        self.image = [None] * n_masks\n",
    "        self.mask = [None] * n_masks\n",
    "        self.mask_loc = [None] * n_masks\n",
    "        for i in range(n_masks):\n",
    "            mask = torch.zeros((28, 28), dtype=torch.uint8)\n",
    "            mask[self.data[i][0].reshape(28,28) <= pixel_bound] = 1\n",
    "            self.mask[i] = mask.unsqueeze(0)   # add an axis for channel\n",
    "            # Mask out missing pixels by zero\n",
    "            self.image[i] = self.data[i][0] * mask.float()\n",
    "        \n",
    "    def generate_incomplete_data_label(self, pixel_bound_array):\n",
    "        n_masks = self.data_size\n",
    "        self.image = [None] * n_masks\n",
    "        self.mask = [None] * n_masks\n",
    "        self.mask_loc = [None] * n_masks\n",
    "        for i in range(n_masks):\n",
    "            mask = torch.zeros((28, 28), dtype=torch.uint8)\n",
    "            mask[self.data[i][0].reshape(28,28) <= pixel_bound_array[self.data[i][1]]] = 1\n",
    "            self.mask[i] = mask.unsqueeze(0)   # add an axis for channel\n",
    "            # Mask out missing pixels by zero\n",
    "            self.image[i] = self.data[i][0] * mask.float() "
   ]
  },
  {
   "cell_type": "code",
   "execution_count": 6,
   "metadata": {
    "id": "4bLxDThiF_oj",
    "pycharm": {
     "name": "#%%\n"
    }
   },
   "outputs": [],
   "source": [
    "def plot_grid(ax, image, bbox=None, gap=1, gap_value=1, nrow=4, ncol=8,\n",
    "              title=None):\n",
    "    image = image.cpu().numpy().squeeze(1)\n",
    "    LEN = 28\n",
    "    grid = np.empty((nrow * (LEN + gap) - gap, ncol * (LEN + gap) - gap))\n",
    "    grid.fill(gap_value)\n",
    "\n",
    "    for i, x in enumerate(image):\n",
    "        if i >= nrow * ncol:\n",
    "            break\n",
    "        p0 = (i // ncol) * (LEN + gap)\n",
    "        p1 = (i % ncol) * (LEN + gap)\n",
    "        grid[p0:(p0 + LEN), p1:(p1 + LEN)] = x\n",
    "\n",
    "    ax.set_axis_off()\n",
    "    ax.imshow(grid, cmap='binary_r', interpolation='none', aspect='equal')\n",
    "\n",
    "    if bbox:\n",
    "        nplot = min(len(image), nrow * ncol)\n",
    "        for i in range(nplot):\n",
    "            d0, d1, d0_len, d1_len = bbox[i]\n",
    "            p0 = (i // ncol) * (LEN + gap)\n",
    "            p1 = (i % ncol) * (LEN + gap)\n",
    "            offset = np.array([p1 + d1, p0 + d0]) - .5\n",
    "            ax.add_patch(Rectangle(\n",
    "                offset, d1_len, d0_len, lw=1.5, edgecolor='red', fill=False))\n",
    "            \n",
    "    if title:\n",
    "        ax.set_title(title)"
   ]
  },
  {
   "cell_type": "code",
   "execution_count": 7,
   "metadata": {
    "id": "J2_I-IGyF_ou",
    "pycharm": {
     "name": "#%%\n"
    }
   },
   "outputs": [],
   "source": [
    "def mask_data(data, mask, tau=0):\n",
    "    return mask * data + (1 - mask) * tau"
   ]
  },
  {
   "cell_type": "code",
   "execution_count": 8,
   "metadata": {
    "id": "Zp3NuHseF_pH",
    "pycharm": {
     "name": "#%%\n"
    }
   },
   "outputs": [],
   "source": [
    "# Must sub-class ConvGenerator to provide transform()\n",
    "class ConvGenerator(nn.Module):\n",
    "    def __init__(self, latent_size=128):\n",
    "        super().__init__()\n",
    "\n",
    "        self.DIM = 64\n",
    "        self.latent_size = latent_size\n",
    "\n",
    "        self.preprocess = nn.Sequential(\n",
    "            nn.Linear(latent_size, 4 * 4 * 4 * self.DIM),\n",
    "            nn.ReLU(True),\n",
    "        )\n",
    "        self.block1 = nn.Sequential(\n",
    "            nn.ConvTranspose2d(4 * self.DIM, 2 * self.DIM, 5),\n",
    "            nn.ReLU(True),\n",
    "        )\n",
    "        self.block2 = nn.Sequential(\n",
    "            nn.ConvTranspose2d(2 * self.DIM, self.DIM, 5),\n",
    "            nn.ReLU(True),\n",
    "        )\n",
    "        self.deconv_out = nn.ConvTranspose2d(self.DIM, 1, 8, stride=2)\n",
    "\n",
    "    def forward(self, input):\n",
    "        net = self.preprocess(input)\n",
    "        net = net.view(-1, 4 * self.DIM, 4, 4)\n",
    "        net = self.block1(net)\n",
    "        net = net[:, :, :7, :7]\n",
    "        net = self.block2(net)\n",
    "        net = self.deconv_out(net)\n",
    "        return self.transform(net).view(-1, 1, 28, 28)\n",
    "\n",
    "\n",
    "class ConvDataGenerator(ConvGenerator):\n",
    "    def __init__(self, latent_size=128):\n",
    "        super().__init__(latent_size=latent_size)\n",
    "        self.transform = lambda x: torch.sigmoid(x)\n",
    "\n",
    "\n",
    "class ConvMaskGenerator(ConvGenerator):\n",
    "    def __init__(self, latent_size=128, temperature=.66):\n",
    "        super().__init__(latent_size=latent_size)\n",
    "        self.transform = lambda x: torch.sigmoid(x / temperature)"
   ]
  },
  {
   "cell_type": "code",
   "execution_count": 9,
   "metadata": {
    "id": "7EZQkePxF_pO",
    "pycharm": {
     "name": "#%%\n"
    }
   },
   "outputs": [],
   "source": [
    "class ConvCritic(nn.Module):\n",
    "    def __init__(self):\n",
    "        super().__init__()\n",
    "\n",
    "        self.DIM = 64\n",
    "        main = nn.Sequential(\n",
    "            nn.Conv2d(1, self.DIM, 5, stride=2, padding=2),\n",
    "            nn.ReLU(True),\n",
    "            nn.Conv2d(self.DIM, 2 * self.DIM, 5, stride=2, padding=2),\n",
    "            nn.ReLU(True),\n",
    "            nn.Conv2d(2 * self.DIM, 4 * self.DIM, 5, stride=2, padding=2),\n",
    "            nn.ReLU(True),\n",
    "        )\n",
    "        self.main = main\n",
    "        self.output = nn.Linear(4 * 4 * 4 * self.DIM, 1)\n",
    "\n",
    "    def forward(self, input):\n",
    "        input = input.view(-1, 1, 28, 28)\n",
    "        net = self.main(input)\n",
    "        net = net.view(-1, 4 * 4 * 4 * self.DIM)\n",
    "        net = self.output(net)\n",
    "        return net.view(-1)"
   ]
  },
  {
   "cell_type": "code",
   "execution_count": 10,
   "metadata": {
    "id": "_p9VR4w-F_pS",
    "pycharm": {
     "name": "#%%\n"
    }
   },
   "outputs": [],
   "source": [
    "class CriticUpdater:\n",
    "    def __init__(self, critic, critic_optimizer, batch_size=64, gp_lambda=10):\n",
    "        self.critic = critic\n",
    "        self.critic_optimizer = critic_optimizer\n",
    "        self.gp_lambda = gp_lambda\n",
    "        # Interpolation coefficient\n",
    "        self.eps = torch.empty(batch_size, 1, 1, 1, device=device)\n",
    "        # For computing the gradient penalty\n",
    "        self.ones = torch.ones(batch_size).to(device)\n",
    "\n",
    "    def __call__(self, real, fake):\n",
    "        real = real.detach()\n",
    "        fake = fake.detach()\n",
    "        self.critic.zero_grad()\n",
    "        self.eps.uniform_(0, 1)\n",
    "        interp = (self.eps * real + (1 - self.eps) * fake).requires_grad_()\n",
    "        grad_d = grad(self.critic(interp), interp, grad_outputs=self.ones,\n",
    "                      create_graph=True)[0]\n",
    "        grad_d = grad_d.view(real.shape[0], -1)\n",
    "        grad_penalty = ((grad_d.norm(dim=1) - 1)**2).mean() * self.gp_lambda\n",
    "        w_dist = self.critic(fake).mean() - self.critic(real).mean()\n",
    "        loss = w_dist + grad_penalty\n",
    "        loss.backward()\n",
    "        self.critic_optimizer.step()"
   ]
  },
  {
   "cell_type": "code",
   "execution_count": 11,
   "metadata": {
    "id": "takro5oYF_qF",
    "pycharm": {
     "name": "#%%\n"
    }
   },
   "outputs": [],
   "source": [
    "class Imputer(nn.Module):\n",
    "    def __init__(self, arch=(512, 512)):\n",
    "        super().__init__()\n",
    "        self.fc = nn.Sequential(\n",
    "            nn.Linear(784, arch[0]),\n",
    "            nn.ReLU(),\n",
    "            nn.Linear(arch[0], arch[1]),\n",
    "            nn.ReLU(),\n",
    "            nn.Linear(arch[1], arch[0]),\n",
    "            nn.ReLU(),\n",
    "            nn.Linear(arch[0], 784),\n",
    "        )\n",
    "\n",
    "    def forward(self, data, mask, noise):\n",
    "        net = data * mask + noise * (1 - mask)\n",
    "        net = net.view(data.shape[0], -1)\n",
    "        net = self.fc(net)\n",
    "        net = torch.sigmoid(net).view(data.shape)\n",
    "        return data * mask + net * (1 - mask)"
   ]
  },
  {
   "cell_type": "markdown",
   "metadata": {
    "pycharm": {
     "name": "#%% md\n"
    }
   },
   "source": [
    "# Loading a trained Imputer\n",
    "Loading a model which was trained"
   ]
  },
  {
   "cell_type": "markdown",
   "metadata": {
    "pycharm": {
     "name": "#%% md\n"
    }
   },
   "source": [
    "### Specifying parameters: "
   ]
  },
  {
   "cell_type": "code",
   "execution_count": 13,
   "metadata": {
    "pycharm": {
     "name": "#%%\n"
    }
   },
   "outputs": [],
   "source": [
    "choice_list = [\"MCAR_bernoulli_0.06\", \"MCAR_bernoulli_0.15\", \"MNAR_bernoulli_0.06\", \"MNAR_bernoulli_0.15\", \"MNAR_bernoulli_0.15_scale_0.2\"]"
   ]
  },
  {
   "cell_type": "code",
   "execution_count": 14,
   "metadata": {
    "pycharm": {
     "name": "#%%\n"
    }
   },
   "outputs": [
    {
     "name": "stdout",
     "output_type": "stream",
     "text": [
      "Expect the following directory: epochs_MNAR_bernoulli_0.15 with a maximum epoch number of 0\n",
      "Missingness type is: MNAR_bernoulli_0.15\n"
     ]
    }
   ],
   "source": [
    "from tqdm import tqdm\n",
    "import os\n",
    "missing_type = choice_list[3] # Decided missingness mechanism, either \"default\", \"MNAR\" or \"MNAR_target_dep\"\n",
    "model_dir = \"epochs_\" + missing_type + \"/\" # Directory where epochs should be stored - CREATE THIS DIRECTORY\n",
    "epoch_number = 0\n",
    "\n",
    "\n",
    "\n",
    "print(\"Expect the following directory: \" + model_dir[:-1] + \" with a maximum epoch number of \" + str(epoch_number))\n",
    "print(\"Missingness type is: \" + missing_type)"
   ]
  },
  {
   "cell_type": "code",
   "execution_count": 15,
   "metadata": {
    "pycharm": {
     "name": "#%%\n"
    }
   },
   "outputs": [
    {
     "name": "stderr",
     "output_type": "stream",
     "text": [
      "C:\\Users\\20172613\\Anaconda3\\envs\\RTDM\\lib\\site-packages\\torchvision\\datasets\\mnist.py:498: UserWarning: The given NumPy array is not writeable, and PyTorch does not support non-writeable tensors. This means you can write to the underlying (supposedly non-writeable) NumPy array using the tensor. You may want to copy the array to protect its data or make it writeable before converting it to a tensor. This type of warning will be suppressed for the rest of this program. (Triggered internally at  ..\\torch\\csrc\\utils\\tensor_numpy.cpp:180.)\n",
      "  return torch.from_numpy(parsed.astype(m[2], copy=False)).view(*s)\n"
     ]
    }
   ],
   "source": [
    "if missing_type == \"MCAR_bernoulli_0.06\":\n",
    "    data = BlockMaskedMNIST_MNAR(M_type = \"MAR_bernoulli\", missing_p=0.06)\n",
    "    batch_size = 64\n",
    "    data_loader = DataLoader(data, batch_size=batch_size, shuffle=True,\n",
    "                             drop_last=True)\n",
    "\n",
    "if missing_type == \"MCAR_bernoulli_0.15\":\n",
    "    data = BlockMaskedMNIST_MNAR(M_type = \"MAR_bernoulli\", missing_p=0.15)\n",
    "    batch_size = 64\n",
    "    data_loader = DataLoader(data, batch_size=batch_size, shuffle=True,\n",
    "                             drop_last=True)\n",
    "\n",
    "\n",
    "if missing_type == \"MNAR_bernoulli_0.06\":\n",
    "    data = BlockMaskedMNIST_MNAR(M_type = \"MNAR_bernoulli\", scale_ratio = 0.6, missing_p=0.05)\n",
    "    batch_size = 64\n",
    "    data_loader = DataLoader(data, batch_size=batch_size, shuffle=True,\n",
    "                             drop_last=True)\n",
    "\n",
    "if missing_type == \"MNAR_bernoulli_0.15\":\n",
    "    data = BlockMaskedMNIST_MNAR(M_type = \"MNAR_bernoulli\", scale_ratio = 0.6, missing_p=0.15)\n",
    "    batch_size = 64\n",
    "    data_loader = DataLoader(data, batch_size=batch_size, shuffle=True,\n",
    "                             drop_last=True)\n",
    "\n",
    "if missing_type == \"MNAR_bernoulli_0.15_scale_0.2\":\n",
    "    data = BlockMaskedMNIST_MNAR(M_type = \"MNAR_bernoulli\", scale_ratio = 0.2, missing_p=0.15)\n",
    "    batch_size = 64\n",
    "    data_loader = DataLoader(data, batch_size=batch_size, shuffle=True,\n",
    "                             drop_last=True)"
   ]
  },
  {
   "cell_type": "code",
   "execution_count": 16,
   "metadata": {
    "pycharm": {
     "name": "#%%\n"
    }
   },
   "outputs": [
    {
     "data": {
      "text/plain": "0.1499812655184806"
     },
     "execution_count": 16,
     "metadata": {},
     "output_type": "execute_result"
    }
   ],
   "source": [
    "missing_list=[]\n",
    "\n",
    "for _, real_mask, _ in data_loader:\n",
    "    missing_list.append(1- np.mean(np.array(real_mask)))\n",
    "\n",
    "np.mean(missing_list)"
   ]
  },
  {
   "cell_type": "code",
   "execution_count": 17,
   "metadata": {
    "colab": {
     "base_uri": "https://localhost:8080/",
     "height": 194
    },
    "id": "baijdrCjF_oz",
    "outputId": "dddf20b6-7ab3-45a9-f668-9cfda486ae22",
    "pycharm": {
     "name": "#%%\n"
    }
   },
   "outputs": [
    {
     "data": {
      "text/plain": "<Figure size 1200x300 with 1 Axes>",
      "image/png": "[encoded data removed]"
     },
     "metadata": {
      "image/png": {
       "width": 950,
       "height": 250
      }
     },
     "output_type": "display_data"
    }
   ],
   "source": [
    "data_samples, mask_samples, _ = next(iter(data_loader))\n",
    "fig, ax = plt.subplots(figsize=(12, 3))\n",
    "plot_grid(ax, mask_data(data_samples, mask_samples.float(), .5),\n",
    "          nrow=4, ncol=16)"
   ]
  },
  {
   "cell_type": "code",
   "execution_count": 18,
   "metadata": {
    "pycharm": {
     "name": "#%%\n"
    }
   },
   "outputs": [
    {
     "data": {
      "text/plain": "<All keys matched successfully>"
     },
     "execution_count": 18,
     "metadata": {},
     "output_type": "execute_result"
    }
   ],
   "source": [
    "imputer = Imputer().to(device)\n",
    "checkpoint = torch.load(model_dir + 'imputer_epoch-{}.pth'.format(epoch_number))\n",
    "imputer.load_state_dict(checkpoint['model_state_dict'])\n",
    "\n",
    "#imputer.cuda()"
   ]
  },
  {
   "cell_type": "code",
   "execution_count": 20,
   "metadata": {
    "pycharm": {
     "name": "#%%\n"
    }
   },
   "outputs": [],
   "source": [
    "from numpy.random import random\n",
    "import scipy\n",
    "from scipy import linalg\n",
    "from numpy import iscomplexobj\n",
    "from numpy import trace\n",
    "# calculate frechet inception distance\n",
    "def calculate_fid(act1, act2):\n",
    "# calculate mean and covariance statistics\n",
    "    mu1, sigma1 = np.array(act1.mean(axis=0)), np.cov(act1, rowvar=False)\n",
    "    mu2, sigma2 = np.array(act2.mean(axis=0)), np.cov(act2, rowvar=False)\n",
    "    # calculate sum squared difference between mean\n",
    "    ssdiff = np.sum((mu1 - mu2)**2.0)\n",
    "    # calculate sqrt of product between cov\n",
    "    covmean = scipy.linalg.sqrtm(sigma1.dot(sigma2))\n",
    "    # check and correct imaginary numbers from sqrt\n",
    "    if iscomplexobj(covmean):\n",
    "        covmean = covmean.real\n",
    "    # calculate score\n",
    "    fid = ssdiff + trace(sigma1 + sigma2 - 2.0 * covmean)\n",
    "    return fid"
   ]
  },
  {
   "cell_type": "code",
   "execution_count": 21,
   "metadata": {
    "pycharm": {
     "name": "#%%\n"
    }
   },
   "outputs": [
    {
     "name": "stdout",
     "output_type": "stream",
     "text": [
      "Failed to find a square root.\n",
      "Failed to find a square root.\n",
      "Failed to find a square root.\n"
     ]
    },
    {
     "data": {
      "text/plain": "0.11772181299828123"
     },
     "execution_count": 21,
     "metadata": {},
     "output_type": "execute_result"
    }
   ],
   "source": [
    "fid = []\n",
    "for real_data, real_mask, index in data_loader:\n",
    "    with torch.no_grad():\n",
    "        imputer.eval()\n",
    "        impu_noise = torch.empty(batch_size, 1, 28, 28, device=device)\n",
    "        impu_noise.uniform_()\n",
    "        real_data = real_data.to(device)\n",
    "        real_mask = real_mask.to(device).float()\n",
    "        imputer = imputer.to(device)\n",
    "        imputed_data = imputer(real_data, real_mask, impu_noise)\n",
    "        for i in range(len(real_data)):\n",
    "            fid.append(calculate_fid(real_data[i].cpu().reshape(28,28), imputed_data[i].cpu().reshape(28,28)))\n",
    "        \n",
    "        bbox=None\n",
    "fid_array = np.array(fid)[~np.isnan(np.array(fid))]\n",
    "np.mean(fid_array)"
   ]
  },
  {
   "cell_type": "code",
   "execution_count": 22,
   "metadata": {
    "pycharm": {
     "name": "#%%\n"
    }
   },
   "outputs": [
    {
     "data": {
      "text/plain": "<Figure size 600x300 with 1 Axes>",
      "image/png": "[encoded data removed]"
     },
     "metadata": {
      "image/png": {
       "width": 484,
       "height": 250
      }
     },
     "output_type": "display_data"
    }
   ],
   "source": [
    "bbox=None\n",
    "fig, ax = plt.subplots(figsize=(6, 3))\n",
    "plot_grid(ax, imputed_data, bbox, gap=2)"
   ]
  },
  {
   "cell_type": "code",
   "execution_count": 24,
   "metadata": {
    "pycharm": {
     "name": "#%%\n"
    }
   },
   "outputs": [
    {
     "data": {
      "text/plain": "{'MNAR_bernoulli_0.15': array([0.12343557, 0.11345169, 0.05283443, ..., 0.15649357, 0.05844793,\n        0.06329242])}"
     },
     "execution_count": 24,
     "metadata": {},
     "output_type": "execute_result"
    }
   ],
   "source": [
    "import pickle as p\n",
    "# To open result dict use the following code:\n",
    "with open(\"fid_dict.p\", \"rb\") as f:\n",
    "    fid_dict = p.load(f)\n",
    "\n",
    "fid_dict\n",
    "\n",
    "#Maak boxplots per missingness type dus hoe goed die imputer heeft gwerkt."
   ]
  }
 ],
 "metadata": {
  "accelerator": "GPU",
  "colab": {
   "collapsed_sections": [],
   "name": "misgan_pytorch1.6.ipynb",
   "provenance": []
  },
  "kernelspec": {
   "display_name": "RTDM",
   "language": "python",
   "name": "rtdm"
  },
  "language_info": {
   "codemirror_mode": {
    "name": "ipython",
    "version": 3
   },
   "file_extension": ".py",
   "mimetype": "text/x-python",
   "name": "python",
   "nbconvert_exporter": "python",
   "pygments_lexer": "ipython3",
   "version": "3.9.7"
  },
  "widgets": {
   "application/vnd.jupyter.widget-state+json": {
    "07a01870e564469bbaae800247c0e0ab": {
     "model_module": "@jupyter-widgets/base",
     "model_name": "LayoutModel",
     "state": {
      "_model_module": "@jupyter-widgets/base",
      "_model_module_version": "1.2.0",
      "_model_name": "LayoutModel",
      "_view_count": null,
      "_view_module": "@jupyter-widgets/base",
      "_view_module_version": "1.2.0",
      "_view_name": "LayoutView",
      "align_content": null,
      "align_items": null,
      "align_self": null,
      "border": null,
      "bottom": null,
      "display": null,
      "flex": null,
      "flex_flow": null,
      "grid_area": null,
      "grid_auto_columns": null,
      "grid_auto_flow": null,
      "grid_auto_rows": null,
      "grid_column": null,
      "grid_gap": null,
      "grid_row": null,
      "grid_template_areas": null,
      "grid_template_columns": null,
      "grid_template_rows": null,
      "height": null,
      "justify_content": null,
      "justify_items": null,
      "left": null,
      "margin": null,
      "max_height": null,
      "max_width": null,
      "min_height": null,
      "min_width": null,
      "object_fit": null,
      "object_position": null,
      "order": null,
      "overflow": null,
      "overflow_x": null,
      "overflow_y": null,
      "padding": null,
      "right": null,
      "top": null,
      "visibility": null,
      "width": null
     }
    },
    "09498068feec4859bc4090c5538b4ab6": {
     "model_module": "@jupyter-widgets/controls",
     "model_name": "FloatProgressModel",
     "state": {
      "_dom_classes": [],
      "_model_module": "@jupyter-widgets/controls",
      "_model_module_version": "1.5.0",
      "_model_name": "FloatProgressModel",
      "_view_count": null,
      "_view_module": "@jupyter-widgets/controls",
      "_view_module_version": "1.5.0",
      "_view_name": "ProgressView",
      "bar_style": "success",
      "description": "",
      "description_tooltip": null,
      "layout": "IPY_MODEL_284d0d4233bb48e68721644a587ad362",
      "max": 1,
      "min": 0,
      "orientation": "horizontal",
      "style": "IPY_MODEL_8cdeb0d734ca442d945f17fea5832caf",
      "value": 1
     }
    },
    "0c53a51a17d34a67b120670a02d81a0e": {
     "model_module": "@jupyter-widgets/base",
     "model_name": "LayoutModel",
     "state": {
      "_model_module": "@jupyter-widgets/base",
      "_model_module_version": "1.2.0",
      "_model_name": "LayoutModel",
      "_view_count": null,
      "_view_module": "@jupyter-widgets/base",
      "_view_module_version": "1.2.0",
      "_view_name": "LayoutView",
      "align_content": null,
      "align_items": null,
      "align_self": null,
      "border": null,
      "bottom": null,
      "display": null,
      "flex": null,
      "flex_flow": null,
      "grid_area": null,
      "grid_auto_columns": null,
      "grid_auto_flow": null,
      "grid_auto_rows": null,
      "grid_column": null,
      "grid_gap": null,
      "grid_row": null,
      "grid_template_areas": null,
      "grid_template_columns": null,
      "grid_template_rows": null,
      "height": null,
      "justify_content": null,
      "justify_items": null,
      "left": null,
      "margin": null,
      "max_height": null,
      "max_width": null,
      "min_height": null,
      "min_width": null,
      "object_fit": null,
      "object_position": null,
      "order": null,
      "overflow": null,
      "overflow_x": null,
      "overflow_y": null,
      "padding": null,
      "right": null,
      "top": null,
      "visibility": null,
      "width": null
     }
    },
    "12b956c6c88f4c788751bb553369cf77": {
     "model_module": "@jupyter-widgets/base",
     "model_name": "LayoutModel",
     "state": {
      "_model_module": "@jupyter-widgets/base",
      "_model_module_version": "1.2.0",
      "_model_name": "LayoutModel",
      "_view_count": null,
      "_view_module": "@jupyter-widgets/base",
      "_view_module_version": "1.2.0",
      "_view_name": "LayoutView",
      "align_content": null,
      "align_items": null,
      "align_self": null,
      "border": null,
      "bottom": null,
      "display": null,
      "flex": null,
      "flex_flow": null,
      "grid_area": null,
      "grid_auto_columns": null,
      "grid_auto_flow": null,
      "grid_auto_rows": null,
      "grid_column": null,
      "grid_gap": null,
      "grid_row": null,
      "grid_template_areas": null,
      "grid_template_columns": null,
      "grid_template_rows": null,
      "height": null,
      "justify_content": null,
      "justify_items": null,
      "left": null,
      "margin": null,
      "max_height": null,
      "max_width": null,
      "min_height": null,
      "min_width": null,
      "object_fit": null,
      "object_position": null,
      "order": null,
      "overflow": null,
      "overflow_x": null,
      "overflow_y": null,
      "padding": null,
      "right": null,
      "top": null,
      "visibility": null,
      "width": null
     }
    },
    "151ab1b456ec4beba1818ceea2b9f9dd": {
     "model_module": "@jupyter-widgets/controls",
     "model_name": "HTMLModel",
     "state": {
      "_dom_classes": [],
      "_model_module": "@jupyter-widgets/controls",
      "_model_module_version": "1.5.0",
      "_model_name": "HTMLModel",
      "_view_count": null,
      "_view_module": "@jupyter-widgets/controls",
      "_view_module_version": "1.5.0",
      "_view_name": "HTMLView",
      "description": "",
      "description_tooltip": null,
      "layout": "IPY_MODEL_58276dcf96be4a54a5d4e9217c73c3d9",
      "placeholder": "​",
      "style": "IPY_MODEL_e03feb144d074b5580454835933eeaa0",
      "value": " 9920512/? [00:03&lt;00:00, 2480883.48it/s]"
     }
    },
    "284d0d4233bb48e68721644a587ad362": {
     "model_module": "@jupyter-widgets/base",
     "model_name": "LayoutModel",
     "state": {
      "_model_module": "@jupyter-widgets/base",
      "_model_module_version": "1.2.0",
      "_model_name": "LayoutModel",
      "_view_count": null,
      "_view_module": "@jupyter-widgets/base",
      "_view_module_version": "1.2.0",
      "_view_name": "LayoutView",
      "align_content": null,
      "align_items": null,
      "align_self": null,
      "border": null,
      "bottom": null,
      "display": null,
      "flex": null,
      "flex_flow": null,
      "grid_area": null,
      "grid_auto_columns": null,
      "grid_auto_flow": null,
      "grid_auto_rows": null,
      "grid_column": null,
      "grid_gap": null,
      "grid_row": null,
      "grid_template_areas": null,
      "grid_template_columns": null,
      "grid_template_rows": null,
      "height": null,
      "justify_content": null,
      "justify_items": null,
      "left": null,
      "margin": null,
      "max_height": null,
      "max_width": null,
      "min_height": null,
      "min_width": null,
      "object_fit": null,
      "object_position": null,
      "order": null,
      "overflow": null,
      "overflow_x": null,
      "overflow_y": null,
      "padding": null,
      "right": null,
      "top": null,
      "visibility": null,
      "width": null
     }
    },
    "2bc06c609bfa458a805103f86273bd66": {
     "model_module": "@jupyter-widgets/controls",
     "model_name": "HBoxModel",
     "state": {
      "_dom_classes": [],
      "_model_module": "@jupyter-widgets/controls",
      "_model_module_version": "1.5.0",
      "_model_name": "HBoxModel",
      "_view_count": null,
      "_view_module": "@jupyter-widgets/controls",
      "_view_module_version": "1.5.0",
      "_view_name": "HBoxView",
      "box_style": "",
      "children": [
       "IPY_MODEL_7171c7fafee64c008cf6a0bfa3f9593d",
       "IPY_MODEL_151ab1b456ec4beba1818ceea2b9f9dd"
      ],
      "layout": "IPY_MODEL_07a01870e564469bbaae800247c0e0ab"
     }
    },
    "352ef552639c4f028f43d9d13560db9f": {
     "model_module": "@jupyter-widgets/base",
     "model_name": "LayoutModel",
     "state": {
      "_model_module": "@jupyter-widgets/base",
      "_model_module_version": "1.2.0",
      "_model_name": "LayoutModel",
      "_view_count": null,
      "_view_module": "@jupyter-widgets/base",
      "_view_module_version": "1.2.0",
      "_view_name": "LayoutView",
      "align_content": null,
      "align_items": null,
      "align_self": null,
      "border": null,
      "bottom": null,
      "display": null,
      "flex": null,
      "flex_flow": null,
      "grid_area": null,
      "grid_auto_columns": null,
      "grid_auto_flow": null,
      "grid_auto_rows": null,
      "grid_column": null,
      "grid_gap": null,
      "grid_row": null,
      "grid_template_areas": null,
      "grid_template_columns": null,
      "grid_template_rows": null,
      "height": null,
      "justify_content": null,
      "justify_items": null,
      "left": null,
      "margin": null,
      "max_height": null,
      "max_width": null,
      "min_height": null,
      "min_width": null,
      "object_fit": null,
      "object_position": null,
      "order": null,
      "overflow": null,
      "overflow_x": null,
      "overflow_y": null,
      "padding": null,
      "right": null,
      "top": null,
      "visibility": null,
      "width": null
     }
    },
    "392bdabfe78b467db802ce86b99a6877": {
     "model_module": "@jupyter-widgets/controls",
     "model_name": "HTMLModel",
     "state": {
      "_dom_classes": [],
      "_model_module": "@jupyter-widgets/controls",
      "_model_module_version": "1.5.0",
      "_model_name": "HTMLModel",
      "_view_count": null,
      "_view_module": "@jupyter-widgets/controls",
      "_view_module_version": "1.5.0",
      "_view_name": "HTMLView",
      "description": "",
      "description_tooltip": null,
      "layout": "IPY_MODEL_f92885e5e99547b78a4bea9fb79c6c75",
      "placeholder": "​",
      "style": "IPY_MODEL_5bd4a04770cf41688bf504f189432b95",
      "value": " 8192/? [00:00&lt;00:00, 9675.85it/s]"
     }
    },
    "4cf4b70d48074a58aee550dad6deda08": {
     "model_module": "@jupyter-widgets/controls",
     "model_name": "HTMLModel",
     "state": {
      "_dom_classes": [],
      "_model_module": "@jupyter-widgets/controls",
      "_model_module_version": "1.5.0",
      "_model_name": "HTMLModel",
      "_view_count": null,
      "_view_module": "@jupyter-widgets/controls",
      "_view_module_version": "1.5.0",
      "_view_name": "HTMLView",
      "description": "",
      "description_tooltip": null,
      "layout": "IPY_MODEL_885c8efdcd264d0ebb31adb61e64bcfb",
      "placeholder": "​",
      "style": "IPY_MODEL_a5c95c3d32ea4da38511ccbb89bb6778",
      "value": " 32768/? [00:01&lt;00:00, 18346.52it/s]"
     }
    },
    "538bec2a7bba488ab76404421da235c8": {
     "model_module": "@jupyter-widgets/controls",
     "model_name": "HBoxModel",
     "state": {
      "_dom_classes": [],
      "_model_module": "@jupyter-widgets/controls",
      "_model_module_version": "1.5.0",
      "_model_name": "HBoxModel",
      "_view_count": null,
      "_view_module": "@jupyter-widgets/controls",
      "_view_module_version": "1.5.0",
      "_view_name": "HBoxView",
      "box_style": "",
      "children": [
       "IPY_MODEL_09498068feec4859bc4090c5538b4ab6",
       "IPY_MODEL_9e707a71878b44bd957c3644b54072fa"
      ],
      "layout": "IPY_MODEL_0c53a51a17d34a67b120670a02d81a0e"
     }
    },
    "58276dcf96be4a54a5d4e9217c73c3d9": {
     "model_module": "@jupyter-widgets/base",
     "model_name": "LayoutModel",
     "state": {
      "_model_module": "@jupyter-widgets/base",
      "_model_module_version": "1.2.0",
      "_model_name": "LayoutModel",
      "_view_count": null,
      "_view_module": "@jupyter-widgets/base",
      "_view_module_version": "1.2.0",
      "_view_name": "LayoutView",
      "align_content": null,
      "align_items": null,
      "align_self": null,
      "border": null,
      "bottom": null,
      "display": null,
      "flex": null,
      "flex_flow": null,
      "grid_area": null,
      "grid_auto_columns": null,
      "grid_auto_flow": null,
      "grid_auto_rows": null,
      "grid_column": null,
      "grid_gap": null,
      "grid_row": null,
      "grid_template_areas": null,
      "grid_template_columns": null,
      "grid_template_rows": null,
      "height": null,
      "justify_content": null,
      "justify_items": null,
      "left": null,
      "margin": null,
      "max_height": null,
      "max_width": null,
      "min_height": null,
      "min_width": null,
      "object_fit": null,
      "object_position": null,
      "order": null,
      "overflow": null,
      "overflow_x": null,
      "overflow_y": null,
      "padding": null,
      "right": null,
      "top": null,
      "visibility": null,
      "width": null
     }
    },
    "5bd4a04770cf41688bf504f189432b95": {
     "model_module": "@jupyter-widgets/controls",
     "model_name": "DescriptionStyleModel",
     "state": {
      "_model_module": "@jupyter-widgets/controls",
      "_model_module_version": "1.5.0",
      "_model_name": "DescriptionStyleModel",
      "_view_count": null,
      "_view_module": "@jupyter-widgets/base",
      "_view_module_version": "1.2.0",
      "_view_name": "StyleView",
      "description_width": ""
     }
    },
    "611fea2bb36e4fc1bede57239dca6a83": {
     "model_module": "@jupyter-widgets/controls",
     "model_name": "DescriptionStyleModel",
     "state": {
      "_model_module": "@jupyter-widgets/controls",
      "_model_module_version": "1.5.0",
      "_model_name": "DescriptionStyleModel",
      "_view_count": null,
      "_view_module": "@jupyter-widgets/base",
      "_view_module_version": "1.2.0",
      "_view_name": "StyleView",
      "description_width": ""
     }
    },
    "6777c43ffdb045f7b74dafeafb78ca83": {
     "model_module": "@jupyter-widgets/controls",
     "model_name": "ProgressStyleModel",
     "state": {
      "_model_module": "@jupyter-widgets/controls",
      "_model_module_version": "1.5.0",
      "_model_name": "ProgressStyleModel",
      "_view_count": null,
      "_view_module": "@jupyter-widgets/base",
      "_view_module_version": "1.2.0",
      "_view_name": "StyleView",
      "bar_color": null,
      "description_width": "initial"
     }
    },
    "6f3e98ca4a9c47178c54d653361a7bce": {
     "model_module": "@jupyter-widgets/base",
     "model_name": "LayoutModel",
     "state": {
      "_model_module": "@jupyter-widgets/base",
      "_model_module_version": "1.2.0",
      "_model_name": "LayoutModel",
      "_view_count": null,
      "_view_module": "@jupyter-widgets/base",
      "_view_module_version": "1.2.0",
      "_view_name": "LayoutView",
      "align_content": null,
      "align_items": null,
      "align_self": null,
      "border": null,
      "bottom": null,
      "display": null,
      "flex": null,
      "flex_flow": null,
      "grid_area": null,
      "grid_auto_columns": null,
      "grid_auto_flow": null,
      "grid_auto_rows": null,
      "grid_column": null,
      "grid_gap": null,
      "grid_row": null,
      "grid_template_areas": null,
      "grid_template_columns": null,
      "grid_template_rows": null,
      "height": null,
      "justify_content": null,
      "justify_items": null,
      "left": null,
      "margin": null,
      "max_height": null,
      "max_width": null,
      "min_height": null,
      "min_width": null,
      "object_fit": null,
      "object_position": null,
      "order": null,
      "overflow": null,
      "overflow_x": null,
      "overflow_y": null,
      "padding": null,
      "right": null,
      "top": null,
      "visibility": null,
      "width": null
     }
    },
    "6f4eccc584234f999f5a315efb6aa3f4": {
     "model_module": "@jupyter-widgets/controls",
     "model_name": "HBoxModel",
     "state": {
      "_dom_classes": [],
      "_model_module": "@jupyter-widgets/controls",
      "_model_module_version": "1.5.0",
      "_model_name": "HBoxModel",
      "_view_count": null,
      "_view_module": "@jupyter-widgets/controls",
      "_view_module_version": "1.5.0",
      "_view_name": "HBoxView",
      "box_style": "",
      "children": [
       "IPY_MODEL_bb12ab14deda4b5eb319a39469fc22aa",
       "IPY_MODEL_392bdabfe78b467db802ce86b99a6877"
      ],
      "layout": "IPY_MODEL_bc6ba7364e404814a30c393cbc2a3a20"
     }
    },
    "716b7111643244d99002da0bc7997ca4": {
     "model_module": "@jupyter-widgets/controls",
     "model_name": "ProgressStyleModel",
     "state": {
      "_model_module": "@jupyter-widgets/controls",
      "_model_module_version": "1.5.0",
      "_model_name": "ProgressStyleModel",
      "_view_count": null,
      "_view_module": "@jupyter-widgets/base",
      "_view_module_version": "1.2.0",
      "_view_name": "StyleView",
      "bar_color": null,
      "description_width": "initial"
     }
    },
    "7171c7fafee64c008cf6a0bfa3f9593d": {
     "model_module": "@jupyter-widgets/controls",
     "model_name": "FloatProgressModel",
     "state": {
      "_dom_classes": [],
      "_model_module": "@jupyter-widgets/controls",
      "_model_module_version": "1.5.0",
      "_model_name": "FloatProgressModel",
      "_view_count": null,
      "_view_module": "@jupyter-widgets/controls",
      "_view_module_version": "1.5.0",
      "_view_name": "ProgressView",
      "bar_style": "success",
      "description": "",
      "description_tooltip": null,
      "layout": "IPY_MODEL_12b956c6c88f4c788751bb553369cf77",
      "max": 1,
      "min": 0,
      "orientation": "horizontal",
      "style": "IPY_MODEL_d0cb10c018d7452f92add36f3b388aea",
      "value": 1
     }
    },
    "775ed6463a20471cb2e592dcb0a6c053": {
     "model_module": "@jupyter-widgets/controls",
     "model_name": "HBoxModel",
     "state": {
      "_dom_classes": [],
      "_model_module": "@jupyter-widgets/controls",
      "_model_module_version": "1.5.0",
      "_model_name": "HBoxModel",
      "_view_count": null,
      "_view_module": "@jupyter-widgets/controls",
      "_view_module_version": "1.5.0",
      "_view_name": "HBoxView",
      "box_style": "",
      "children": [
       "IPY_MODEL_9f5731a1221540dd9172c4a510ad1d3b",
       "IPY_MODEL_4cf4b70d48074a58aee550dad6deda08"
      ],
      "layout": "IPY_MODEL_f9743d04a4ca48a1b39a9b5807d4bb5b"
     }
    },
    "885c8efdcd264d0ebb31adb61e64bcfb": {
     "model_module": "@jupyter-widgets/base",
     "model_name": "LayoutModel",
     "state": {
      "_model_module": "@jupyter-widgets/base",
      "_model_module_version": "1.2.0",
      "_model_name": "LayoutModel",
      "_view_count": null,
      "_view_module": "@jupyter-widgets/base",
      "_view_module_version": "1.2.0",
      "_view_name": "LayoutView",
      "align_content": null,
      "align_items": null,
      "align_self": null,
      "border": null,
      "bottom": null,
      "display": null,
      "flex": null,
      "flex_flow": null,
      "grid_area": null,
      "grid_auto_columns": null,
      "grid_auto_flow": null,
      "grid_auto_rows": null,
      "grid_column": null,
      "grid_gap": null,
      "grid_row": null,
      "grid_template_areas": null,
      "grid_template_columns": null,
      "grid_template_rows": null,
      "height": null,
      "justify_content": null,
      "justify_items": null,
      "left": null,
      "margin": null,
      "max_height": null,
      "max_width": null,
      "min_height": null,
      "min_width": null,
      "object_fit": null,
      "object_position": null,
      "order": null,
      "overflow": null,
      "overflow_x": null,
      "overflow_y": null,
      "padding": null,
      "right": null,
      "top": null,
      "visibility": null,
      "width": null
     }
    },
    "8cdeb0d734ca442d945f17fea5832caf": {
     "model_module": "@jupyter-widgets/controls",
     "model_name": "ProgressStyleModel",
     "state": {
      "_model_module": "@jupyter-widgets/controls",
      "_model_module_version": "1.5.0",
      "_model_name": "ProgressStyleModel",
      "_view_count": null,
      "_view_module": "@jupyter-widgets/base",
      "_view_module_version": "1.2.0",
      "_view_name": "StyleView",
      "bar_color": null,
      "description_width": "initial"
     }
    },
    "9e707a71878b44bd957c3644b54072fa": {
     "model_module": "@jupyter-widgets/controls",
     "model_name": "HTMLModel",
     "state": {
      "_dom_classes": [],
      "_model_module": "@jupyter-widgets/controls",
      "_model_module_version": "1.5.0",
      "_model_name": "HTMLModel",
      "_view_count": null,
      "_view_module": "@jupyter-widgets/controls",
      "_view_module_version": "1.5.0",
      "_view_name": "HTMLView",
      "description": "",
      "description_tooltip": null,
      "layout": "IPY_MODEL_fcbc79eab3a0426894b51e63d67d6141",
      "placeholder": "​",
      "style": "IPY_MODEL_611fea2bb36e4fc1bede57239dca6a83",
      "value": " 1654784/? [00:01&lt;00:00, 1092389.34it/s]"
     }
    },
    "9f5731a1221540dd9172c4a510ad1d3b": {
     "model_module": "@jupyter-widgets/controls",
     "model_name": "FloatProgressModel",
     "state": {
      "_dom_classes": [],
      "_model_module": "@jupyter-widgets/controls",
      "_model_module_version": "1.5.0",
      "_model_name": "FloatProgressModel",
      "_view_count": null,
      "_view_module": "@jupyter-widgets/controls",
      "_view_module_version": "1.5.0",
      "_view_name": "ProgressView",
      "bar_style": "success",
      "description": "",
      "description_tooltip": null,
      "layout": "IPY_MODEL_6f3e98ca4a9c47178c54d653361a7bce",
      "max": 1,
      "min": 0,
      "orientation": "horizontal",
      "style": "IPY_MODEL_6777c43ffdb045f7b74dafeafb78ca83",
      "value": 1
     }
    },
    "a5c95c3d32ea4da38511ccbb89bb6778": {
     "model_module": "@jupyter-widgets/controls",
     "model_name": "DescriptionStyleModel",
     "state": {
      "_model_module": "@jupyter-widgets/controls",
      "_model_module_version": "1.5.0",
      "_model_name": "DescriptionStyleModel",
      "_view_count": null,
      "_view_module": "@jupyter-widgets/base",
      "_view_module_version": "1.2.0",
      "_view_name": "StyleView",
      "description_width": ""
     }
    },
    "bb12ab14deda4b5eb319a39469fc22aa": {
     "model_module": "@jupyter-widgets/controls",
     "model_name": "FloatProgressModel",
     "state": {
      "_dom_classes": [],
      "_model_module": "@jupyter-widgets/controls",
      "_model_module_version": "1.5.0",
      "_model_name": "FloatProgressModel",
      "_view_count": null,
      "_view_module": "@jupyter-widgets/controls",
      "_view_module_version": "1.5.0",
      "_view_name": "ProgressView",
      "bar_style": "success",
      "description": "",
      "description_tooltip": null,
      "layout": "IPY_MODEL_352ef552639c4f028f43d9d13560db9f",
      "max": 1,
      "min": 0,
      "orientation": "horizontal",
      "style": "IPY_MODEL_716b7111643244d99002da0bc7997ca4",
      "value": 1
     }
    },
    "bc6ba7364e404814a30c393cbc2a3a20": {
     "model_module": "@jupyter-widgets/base",
     "model_name": "LayoutModel",
     "state": {
      "_model_module": "@jupyter-widgets/base",
      "_model_module_version": "1.2.0",
      "_model_name": "LayoutModel",
      "_view_count": null,
      "_view_module": "@jupyter-widgets/base",
      "_view_module_version": "1.2.0",
      "_view_name": "LayoutView",
      "align_content": null,
      "align_items": null,
      "align_self": null,
      "border": null,
      "bottom": null,
      "display": null,
      "flex": null,
      "flex_flow": null,
      "grid_area": null,
      "grid_auto_columns": null,
      "grid_auto_flow": null,
      "grid_auto_rows": null,
      "grid_column": null,
      "grid_gap": null,
      "grid_row": null,
      "grid_template_areas": null,
      "grid_template_columns": null,
      "grid_template_rows": null,
      "height": null,
      "justify_content": null,
      "justify_items": null,
      "left": null,
      "margin": null,
      "max_height": null,
      "max_width": null,
      "min_height": null,
      "min_width": null,
      "object_fit": null,
      "object_position": null,
      "order": null,
      "overflow": null,
      "overflow_x": null,
      "overflow_y": null,
      "padding": null,
      "right": null,
      "top": null,
      "visibility": null,
      "width": null
     }
    },
    "d0cb10c018d7452f92add36f3b388aea": {
     "model_module": "@jupyter-widgets/controls",
     "model_name": "ProgressStyleModel",
     "state": {
      "_model_module": "@jupyter-widgets/controls",
      "_model_module_version": "1.5.0",
      "_model_name": "ProgressStyleModel",
      "_view_count": null,
      "_view_module": "@jupyter-widgets/base",
      "_view_module_version": "1.2.0",
      "_view_name": "StyleView",
      "bar_color": null,
      "description_width": "initial"
     }
    },
    "e03feb144d074b5580454835933eeaa0": {
     "model_module": "@jupyter-widgets/controls",
     "model_name": "DescriptionStyleModel",
     "state": {
      "_model_module": "@jupyter-widgets/controls",
      "_model_module_version": "1.5.0",
      "_model_name": "DescriptionStyleModel",
      "_view_count": null,
      "_view_module": "@jupyter-widgets/base",
      "_view_module_version": "1.2.0",
      "_view_name": "StyleView",
      "description_width": ""
     }
    },
    "f92885e5e99547b78a4bea9fb79c6c75": {
     "model_module": "@jupyter-widgets/base",
     "model_name": "LayoutModel",
     "state": {
      "_model_module": "@jupyter-widgets/base",
      "_model_module_version": "1.2.0",
      "_model_name": "LayoutModel",
      "_view_count": null,
      "_view_module": "@jupyter-widgets/base",
      "_view_module_version": "1.2.0",
      "_view_name": "LayoutView",
      "align_content": null,
      "align_items": null,
      "align_self": null,
      "border": null,
      "bottom": null,
      "display": null,
      "flex": null,
      "flex_flow": null,
      "grid_area": null,
      "grid_auto_columns": null,
      "grid_auto_flow": null,
      "grid_auto_rows": null,
      "grid_column": null,
      "grid_gap": null,
      "grid_row": null,
      "grid_template_areas": null,
      "grid_template_columns": null,
      "grid_template_rows": null,
      "height": null,
      "justify_content": null,
      "justify_items": null,
      "left": null,
      "margin": null,
      "max_height": null,
      "max_width": null,
      "min_height": null,
      "min_width": null,
      "object_fit": null,
      "object_position": null,
      "order": null,
      "overflow": null,
      "overflow_x": null,
      "overflow_y": null,
      "padding": null,
      "right": null,
      "top": null,
      "visibility": null,
      "width": null
     }
    },
    "f9743d04a4ca48a1b39a9b5807d4bb5b": {
     "model_module": "@jupyter-widgets/base",
     "model_name": "LayoutModel",
     "state": {
      "_model_module": "@jupyter-widgets/base",
      "_model_module_version": "1.2.0",
      "_model_name": "LayoutModel",
      "_view_count": null,
      "_view_module": "@jupyter-widgets/base",
      "_view_module_version": "1.2.0",
      "_view_name": "LayoutView",
      "align_content": null,
      "align_items": null,
      "align_self": null,
      "border": null,
      "bottom": null,
      "display": null,
      "flex": null,
      "flex_flow": null,
      "grid_area": null,
      "grid_auto_columns": null,
      "grid_auto_flow": null,
      "grid_auto_rows": null,
      "grid_column": null,
      "grid_gap": null,
      "grid_row": null,
      "grid_template_areas": null,
      "grid_template_columns": null,
      "grid_template_rows": null,
      "height": null,
      "justify_content": null,
      "justify_items": null,
      "left": null,
      "margin": null,
      "max_height": null,
      "max_width": null,
      "min_height": null,
      "min_width": null,
      "object_fit": null,
      "object_position": null,
      "order": null,
      "overflow": null,
      "overflow_x": null,
      "overflow_y": null,
      "padding": null,
      "right": null,
      "top": null,
      "visibility": null,
      "width": null
     }
    },
    "fcbc79eab3a0426894b51e63d67d6141": {
     "model_module": "@jupyter-widgets/base",
     "model_name": "LayoutModel",
     "state": {
      "_model_module": "@jupyter-widgets/base",
      "_model_module_version": "1.2.0",
      "_model_name": "LayoutModel",
      "_view_count": null,
      "_view_module": "@jupyter-widgets/base",
      "_view_module_version": "1.2.0",
      "_view_name": "LayoutView",
      "align_content": null,
      "align_items": null,
      "align_self": null,
      "border": null,
      "bottom": null,
      "display": null,
      "flex": null,
      "flex_flow": null,
      "grid_area": null,
      "grid_auto_columns": null,
      "grid_auto_flow": null,
      "grid_auto_rows": null,
      "grid_column": null,
      "grid_gap": null,
      "grid_row": null,
      "grid_template_areas": null,
      "grid_template_columns": null,
      "grid_template_rows": null,
      "height": null,
      "justify_content": null,
      "justify_items": null,
      "left": null,
      "margin": null,
      "max_height": null,
      "max_width": null,
      "min_height": null,
      "min_width": null,
      "object_fit": null,
      "object_position": null,
      "order": null,
      "overflow": null,
      "overflow_x": null,
      "overflow_y": null,
      "padding": null,
      "right": null,
      "top": null,
      "visibility": null,
      "width": null
     }
    }
   }
  }
 },
 "nbformat": 4,
 "nbformat_minor": 4
}